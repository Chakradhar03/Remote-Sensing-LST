{
 "cells": [
  {
   "attachments": {},
   "cell_type": "markdown",
   "metadata": {},
   "source": [
    "### Importing the Libraries"
   ]
  },
  {
   "cell_type": "code",
   "execution_count": 1,
   "metadata": {},
   "outputs": [],
   "source": [
    "import pandas as pd\n",
    "import numpy as np\n",
    "import seaborn as sns\n",
    "\n",
    "from sklearn.model_selection import train_test_split\n",
    "from sklearn.metrics import mean_squared_error\n",
    "from sklearn.metrics import mean_absolute_error\n",
    "from sklearn.metrics import r2_score\n",
    "\n",
    "from itertools import combinations\n",
    "from sklearn.feature_selection import SelectFromModel\n",
    "from sklearn.linear_model import LinearRegression, Ridge, Lasso\n",
    "from sklearn.preprocessing import PolynomialFeatures, StandardScaler\n",
    "from sklearn.ensemble import RandomForestRegressor\n",
    "from sklearn.ensemble import GradientBoostingRegressor\n",
    "from sklearn.tree import DecisionTreeRegressor\n",
    "from sklearn.neural_network import MLPRegressor\n",
    "from sklearn.kernel_ridge import KernelRidge\n",
    "from sklearn.svm import SVR\n",
    "import xgboost as xgb"
   ]
  },
  {
   "attachments": {},
   "cell_type": "markdown",
   "metadata": {},
   "source": [
    "### Reading the CSV data file"
   ]
  },
  {
   "cell_type": "code",
   "execution_count": 5,
   "metadata": {},
   "outputs": [
    {
     "name": "stdout",
     "output_type": "stream",
     "text": [
      "(522, 35)\n"
     ]
    }
   ],
   "source": [
    "data = pd.read_csv(\"final.csv\")\n",
    "print(data.shape)"
   ]
  },
  {
   "attachments": {},
   "cell_type": "markdown",
   "metadata": {},
   "source": [
    "### Removing of the **null** values"
   ]
  },
  {
   "cell_type": "code",
   "execution_count": 6,
   "metadata": {},
   "outputs": [
    {
     "name": "stdout",
     "output_type": "stream",
     "text": [
      "(521, 35)\n"
     ]
    }
   ],
   "source": [
    "data = data.dropna()\n",
    "print(data.shape)"
   ]
  },
  {
   "attachments": {},
   "cell_type": "markdown",
   "metadata": {},
   "source": [
    "### Extracting the **mean** indices values"
   ]
  },
  {
   "cell_type": "code",
   "execution_count": 7,
   "metadata": {},
   "outputs": [
    {
     "data": {
      "text/html": [
       "<div>\n",
       "<style scoped>\n",
       "    .dataframe tbody tr th:only-of-type {\n",
       "        vertical-align: middle;\n",
       "    }\n",
       "\n",
       "    .dataframe tbody tr th {\n",
       "        vertical-align: top;\n",
       "    }\n",
       "\n",
       "    .dataframe thead th {\n",
       "        text-align: right;\n",
       "    }\n",
       "</style>\n",
       "<table border=\"1\" class=\"dataframe\">\n",
       "  <thead>\n",
       "    <tr style=\"text-align: right;\">\n",
       "      <th></th>\n",
       "      <th>BSI_mean</th>\n",
       "      <th>EVI_mean</th>\n",
       "      <th>MNDWI_mean</th>\n",
       "      <th>NDBI_mean</th>\n",
       "      <th>NDMI_mean</th>\n",
       "      <th>NDVI_mean</th>\n",
       "      <th>SAVI_mean</th>\n",
       "      <th>NDWI_mean</th>\n",
       "      <th>NDBAI_mean</th>\n",
       "      <th>LST_mean</th>\n",
       "    </tr>\n",
       "  </thead>\n",
       "  <tbody>\n",
       "    <tr>\n",
       "      <th>0</th>\n",
       "      <td>0.039680</td>\n",
       "      <td>0.210020</td>\n",
       "      <td>-0.316366</td>\n",
       "      <td>-0.048175</td>\n",
       "      <td>0.048175</td>\n",
       "      <td>0.306342</td>\n",
       "      <td>0.205461</td>\n",
       "      <td>-0.354133</td>\n",
       "      <td>-0.640810</td>\n",
       "      <td>33.017602</td>\n",
       "    </tr>\n",
       "    <tr>\n",
       "      <th>1</th>\n",
       "      <td>0.099487</td>\n",
       "      <td>0.169179</td>\n",
       "      <td>-0.391396</td>\n",
       "      <td>0.008665</td>\n",
       "      <td>-0.008665</td>\n",
       "      <td>0.287868</td>\n",
       "      <td>0.177909</td>\n",
       "      <td>-0.383450</td>\n",
       "      <td>-0.673673</td>\n",
       "      <td>39.616619</td>\n",
       "    </tr>\n",
       "    <tr>\n",
       "      <th>2</th>\n",
       "      <td>0.025270</td>\n",
       "      <td>0.229553</td>\n",
       "      <td>-0.354138</td>\n",
       "      <td>-0.050555</td>\n",
       "      <td>0.050555</td>\n",
       "      <td>0.353781</td>\n",
       "      <td>0.223363</td>\n",
       "      <td>-0.392053</td>\n",
       "      <td>-0.659257</td>\n",
       "      <td>31.384109</td>\n",
       "    </tr>\n",
       "    <tr>\n",
       "      <th>3</th>\n",
       "      <td>0.054472</td>\n",
       "      <td>0.207681</td>\n",
       "      <td>-0.340607</td>\n",
       "      <td>-0.025959</td>\n",
       "      <td>0.025959</td>\n",
       "      <td>0.301510</td>\n",
       "      <td>0.203125</td>\n",
       "      <td>-0.357769</td>\n",
       "      <td>-0.625262</td>\n",
       "      <td>34.086863</td>\n",
       "    </tr>\n",
       "    <tr>\n",
       "      <th>4</th>\n",
       "      <td>-0.031997</td>\n",
       "      <td>0.278178</td>\n",
       "      <td>-0.358356</td>\n",
       "      <td>-0.104633</td>\n",
       "      <td>0.104633</td>\n",
       "      <td>0.431116</td>\n",
       "      <td>0.264810</td>\n",
       "      <td>-0.440143</td>\n",
       "      <td>-0.686251</td>\n",
       "      <td>28.662654</td>\n",
       "    </tr>\n",
       "    <tr>\n",
       "      <th>...</th>\n",
       "      <td>...</td>\n",
       "      <td>...</td>\n",
       "      <td>...</td>\n",
       "      <td>...</td>\n",
       "      <td>...</td>\n",
       "      <td>...</td>\n",
       "      <td>...</td>\n",
       "      <td>...</td>\n",
       "      <td>...</td>\n",
       "      <td>...</td>\n",
       "    </tr>\n",
       "    <tr>\n",
       "      <th>517</th>\n",
       "      <td>0.052930</td>\n",
       "      <td>0.137796</td>\n",
       "      <td>-0.299409</td>\n",
       "      <td>-0.020125</td>\n",
       "      <td>0.020125</td>\n",
       "      <td>0.272341</td>\n",
       "      <td>0.137639</td>\n",
       "      <td>-0.317223</td>\n",
       "      <td>-0.757388</td>\n",
       "      <td>34.023674</td>\n",
       "    </tr>\n",
       "    <tr>\n",
       "      <th>518</th>\n",
       "      <td>0.063561</td>\n",
       "      <td>0.206526</td>\n",
       "      <td>-0.420870</td>\n",
       "      <td>-0.020951</td>\n",
       "      <td>0.020951</td>\n",
       "      <td>0.373076</td>\n",
       "      <td>0.214809</td>\n",
       "      <td>-0.436969</td>\n",
       "      <td>-0.694919</td>\n",
       "      <td>35.749643</td>\n",
       "    </tr>\n",
       "    <tr>\n",
       "      <th>519</th>\n",
       "      <td>0.131668</td>\n",
       "      <td>0.208965</td>\n",
       "      <td>-0.460818</td>\n",
       "      <td>0.058727</td>\n",
       "      <td>-0.058727</td>\n",
       "      <td>0.304498</td>\n",
       "      <td>0.216835</td>\n",
       "      <td>-0.409299</td>\n",
       "      <td>-0.562208</td>\n",
       "      <td>38.788682</td>\n",
       "    </tr>\n",
       "    <tr>\n",
       "      <th>520</th>\n",
       "      <td>0.005290</td>\n",
       "      <td>0.305526</td>\n",
       "      <td>-0.458551</td>\n",
       "      <td>-0.082953</td>\n",
       "      <td>0.082953</td>\n",
       "      <td>0.539540</td>\n",
       "      <td>0.305048</td>\n",
       "      <td>-0.520377</td>\n",
       "      <td>-0.690708</td>\n",
       "      <td>27.523860</td>\n",
       "    </tr>\n",
       "    <tr>\n",
       "      <th>521</th>\n",
       "      <td>0.123308</td>\n",
       "      <td>0.136863</td>\n",
       "      <td>-0.337266</td>\n",
       "      <td>0.043517</td>\n",
       "      <td>-0.043517</td>\n",
       "      <td>0.206313</td>\n",
       "      <td>0.139771</td>\n",
       "      <td>-0.296287</td>\n",
       "      <td>-0.627888</td>\n",
       "      <td>37.695535</td>\n",
       "    </tr>\n",
       "  </tbody>\n",
       "</table>\n",
       "<p>521 rows × 10 columns</p>\n",
       "</div>"
      ],
      "text/plain": [
       "     BSI_mean  EVI_mean  MNDWI_mean  NDBI_mean  NDMI_mean  NDVI_mean  \\\n",
       "0    0.039680  0.210020   -0.316366  -0.048175   0.048175   0.306342   \n",
       "1    0.099487  0.169179   -0.391396   0.008665  -0.008665   0.287868   \n",
       "2    0.025270  0.229553   -0.354138  -0.050555   0.050555   0.353781   \n",
       "3    0.054472  0.207681   -0.340607  -0.025959   0.025959   0.301510   \n",
       "4   -0.031997  0.278178   -0.358356  -0.104633   0.104633   0.431116   \n",
       "..        ...       ...         ...        ...        ...        ...   \n",
       "517  0.052930  0.137796   -0.299409  -0.020125   0.020125   0.272341   \n",
       "518  0.063561  0.206526   -0.420870  -0.020951   0.020951   0.373076   \n",
       "519  0.131668  0.208965   -0.460818   0.058727  -0.058727   0.304498   \n",
       "520  0.005290  0.305526   -0.458551  -0.082953   0.082953   0.539540   \n",
       "521  0.123308  0.136863   -0.337266   0.043517  -0.043517   0.206313   \n",
       "\n",
       "     SAVI_mean  NDWI_mean  NDBAI_mean   LST_mean  \n",
       "0     0.205461  -0.354133   -0.640810  33.017602  \n",
       "1     0.177909  -0.383450   -0.673673  39.616619  \n",
       "2     0.223363  -0.392053   -0.659257  31.384109  \n",
       "3     0.203125  -0.357769   -0.625262  34.086863  \n",
       "4     0.264810  -0.440143   -0.686251  28.662654  \n",
       "..         ...        ...         ...        ...  \n",
       "517   0.137639  -0.317223   -0.757388  34.023674  \n",
       "518   0.214809  -0.436969   -0.694919  35.749643  \n",
       "519   0.216835  -0.409299   -0.562208  38.788682  \n",
       "520   0.305048  -0.520377   -0.690708  27.523860  \n",
       "521   0.139771  -0.296287   -0.627888  37.695535  \n",
       "\n",
       "[521 rows x 10 columns]"
      ]
     },
     "execution_count": 7,
     "metadata": {},
     "output_type": "execute_result"
    }
   ],
   "source": [
    "data1 = data[['BSI_mean', 'EVI_mean', 'MNDWI_mean', 'NDBI_mean', 'NDMI_mean', 'NDVI_mean', 'SAVI_mean', 'NDWI_mean', 'NDBAI_mean', 'LST_mean']]\n",
    "data1"
   ]
  },
  {
   "attachments": {},
   "cell_type": "markdown",
   "metadata": {},
   "source": [
    "### Plotting the heatmap"
   ]
  },
  {
   "cell_type": "code",
   "execution_count": 8,
   "metadata": {},
   "outputs": [
    {
     "data": {
      "text/plain": [
       "<AxesSubplot:>"
      ]
     },
     "execution_count": 8,
     "metadata": {},
     "output_type": "execute_result"
    },
    {
     "data": {
      "image/png": "[encoded data removed]",
      "text/plain": [
       "<Figure size 432x288 with 2 Axes>"
      ]
     },
     "metadata": {
      "needs_background": "light"
     },
     "output_type": "display_data"
    }
   ],
   "source": [
    "sns.heatmap(data1.corr(), cmap=\"YlGnBu\", annot=True)"
   ]
  },
  {
   "attachments": {},
   "cell_type": "markdown",
   "metadata": {},
   "source": [
    "### Splitting the dataset into Train and Test"
   ]
  },
  {
   "cell_type": "code",
   "execution_count": 9,
   "metadata": {},
   "outputs": [],
   "source": [
    "# Split data into features (X) and target variable (y)\n",
    "X = data[['BSI_mean', 'EVI_mean', 'MNDWI_mean', 'NDBI_mean', 'NDMI_mean', 'NDVI_mean', 'SAVI_mean', 'NDWI_mean', 'NDBAI_mean']]\n",
    "y = data['LST_mean']\n",
    "\n",
    "# Split the data into training set and validation set\n",
    "X_train, X_val, y_train, y_val = train_test_split(X, y, test_size=0.2, random_state=42)\n"
   ]
  },
  {
   "attachments": {},
   "cell_type": "markdown",
   "metadata": {},
   "source": [
    "### 1. Linear Regression"
   ]
  },
  {
   "cell_type": "code",
   "execution_count": 12,
   "metadata": {},
   "outputs": [
    {
     "name": "stdout",
     "output_type": "stream",
     "text": [
      "Best R2 value: 0.7720133710591022\n",
      "Training R2 value: 0.798133218858156\n",
      "Mean Squared Error (MSE): 6.420445821520478\n",
      "Mean Absolute Error (MAE): 1.731819697942487\n",
      "Best features: ('BSI_mean', 'MNDWI_mean', 'NDVI_mean', 'SAVI_mean', 'NDBAI_mean')\n"
     ]
    }
   ],
   "source": [
    "best_r2 = 0.0\n",
    "best_features = None\n",
    "\n",
    "# Try different combinations of columns\n",
    "for num_features in range(1, len(X.columns) + 1):\n",
    "    for features in combinations(X.columns, num_features):\n",
    "        X_train_subset = X_train[list(features)]\n",
    "        X_val_subset = X_val[list(features)]\n",
    "        \n",
    "        # Create and train the linear regression model\n",
    "        model = LinearRegression()\n",
    "        model.fit(X_train_subset, y_train)\n",
    "        \n",
    "        # Make predictions on the validation set\n",
    "        y_pred = model.predict(X_val_subset)\n",
    "        \n",
    "        # Calculate evaluation metrics\n",
    "        r2 = r2_score(y_val, y_pred)\n",
    "        train_r2 = r2_score(y_train, model.predict(X_train_subset))\n",
    "        mse = mean_squared_error(y_val, y_pred)\n",
    "        mae = mean_absolute_error(y_val, y_pred)\n",
    "        \n",
    "        # Check if current combination of features gives better R2 score\n",
    "        if r2 > best_r2:\n",
    "            best_r2 = r2\n",
    "            best_features = features\n",
    "\n",
    "# Print the results\n",
    "print(\"Best R2 value:\", best_r2)\n",
    "print(\"Training R2 value:\", train_r2)\n",
    "print(\"Mean Squared Error (MSE):\", mse)\n",
    "print(\"Mean Absolute Error (MAE):\", mae)\n",
    "print(\"Best features:\", best_features)"
   ]
  },
  {
   "attachments": {},
   "cell_type": "markdown",
   "metadata": {},
   "source": [
    "### 2. Polynomial Regression"
   ]
  },
  {
   "cell_type": "code",
   "execution_count": 52,
   "metadata": {},
   "outputs": [
    {
     "name": "stdout",
     "output_type": "stream",
     "text": [
      "Best R2 value: 0.8586027966802722\n",
      "Training R2 value: 1.0\n",
      "Mean Squared Error (MSE): 1103183.6890271576\n",
      "Mean Absolute Error (MAE): 144.92649694963998\n",
      "Best polynomial degree: 2\n",
      "Best features: ('MNDWI_mean', 'NDBI_mean', 'NDMI_mean', 'NDVI_mean', 'SAVI_mean', 'NDWI_mean', 'NDBAI_mean')\n"
     ]
    }
   ],
   "source": [
    "X_train_df = pd.DataFrame(X_train, columns=X.columns)\n",
    "X_val_df = pd.DataFrame(X_val, columns=X.columns)\n",
    "\n",
    "best_r2 = 0.0\n",
    "best_degree = 0\n",
    "best_features = None\n",
    "\n",
    "# Try different combinations of columns and polynomial degrees\n",
    "for num_features in range(1, len(X.columns) + 1):\n",
    "    for features in combinations(X.columns, num_features):\n",
    "        for degree in range(1, 6):  # Try polynomial degrees from 1 to 5\n",
    "            X_train_subset = X_train_df[list(features)]\n",
    "            X_val_subset = X_val_df[list(features)]\n",
    "\n",
    "            # Create polynomial features\n",
    "            polynomial_features = PolynomialFeatures(degree=degree)\n",
    "            X_train_poly = polynomial_features.fit_transform(X_train_subset)\n",
    "            X_val_poly = polynomial_features.transform(X_val_subset)\n",
    "\n",
    "            # Create and train the linear regression model with polynomial features\n",
    "            model = LinearRegression()\n",
    "            model.fit(X_train_poly, y_train)\n",
    "\n",
    "            # Make predictions on the validation set\n",
    "            y_pred = model.predict(X_val_poly)\n",
    "\n",
    "            # Calculate evaluation metrics\n",
    "            r2 = r2_score(y_val, y_pred)\n",
    "            train_r2 = r2_score(y_train, model.predict(X_train_poly))\n",
    "            mse = mean_squared_error(y_val, y_pred)\n",
    "            mae = mean_absolute_error(y_val, y_pred)\n",
    "\n",
    "            # Check if current combination of features and degree gives better R2 score\n",
    "            if r2 > best_r2:\n",
    "                best_r2 = r2\n",
    "                best_degree = degree\n",
    "                best_features = features\n",
    "\n",
    "# Print the results\n",
    "print(\"Best R2 value:\", best_r2)\n",
    "print(\"Training R2 value:\", train_r2)\n",
    "print(\"Mean Squared Error (MSE):\", mse)\n",
    "print(\"Mean Absolute Error (MAE):\", mae)\n",
    "print(\"Best polynomial degree:\", best_degree)\n",
    "print(\"Best features:\", best_features)\n"
   ]
  },
  {
   "attachments": {},
   "cell_type": "markdown",
   "metadata": {},
   "source": [
    "### 3. Random Forest Regressor"
   ]
  },
  {
   "cell_type": "code",
   "execution_count": 18,
   "metadata": {},
   "outputs": [
    {
     "name": "stdout",
     "output_type": "stream",
     "text": [
      "Best R2 value: 0.7188322358716752\n",
      "Training R2 value: 0.9667470908916171\n",
      "Mean Squared Error (MSE): 9.027306164048472\n",
      "Mean Absolute Error (MAE): 1.9152262749551359\n",
      "Best features: ('EVI_mean', 'MNDWI_mean', 'NDVI_mean', 'SAVI_mean', 'NDWI_mean')\n"
     ]
    }
   ],
   "source": [
    "best_r2 = 0.0\n",
    "best_features = None\n",
    "\n",
    "# Try different combinations of columns\n",
    "for num_features in range(1, len(X.columns) + 1):\n",
    "    for features in combinations(X.columns, num_features):\n",
    "        X_train_subset = X_train[list(features)]\n",
    "        X_val_subset = X_val[list(features)]\n",
    "\n",
    "        # Create and train the random forest regressor model\n",
    "        model = RandomForestRegressor(random_state=42)\n",
    "        model.fit(X_train_subset, y_train)\n",
    "\n",
    "        # Make predictions on the validation set\n",
    "        y_pred = model.predict(X_val_subset)\n",
    "\n",
    "        # Calculate evaluation metrics\n",
    "        r2 = r2_score(y_val, y_pred)\n",
    "        train_r2 = r2_score(y_train, model.predict(X_train_subset))\n",
    "        mse = mean_squared_error(y_val, y_pred)\n",
    "        mae = mean_absolute_error(y_val, y_pred)\n",
    "\n",
    "        # Check if current combination of features gives better R2 score\n",
    "        if r2 > best_r2:\n",
    "            best_r2 = r2\n",
    "            best_features = features\n",
    "\n",
    "# Print the results\n",
    "print(\"Best R2 value:\", best_r2)\n",
    "print(\"Training R2 value:\", train_r2)\n",
    "print(\"Mean Squared Error (MSE):\", mse)\n",
    "print(\"Mean Absolute Error (MAE):\", mae)\n",
    "print(\"Best features:\", best_features)\n"
   ]
  },
  {
   "attachments": {},
   "cell_type": "markdown",
   "metadata": {},
   "source": [
    "### 4. Support Vector Regressor"
   ]
  },
  {
   "cell_type": "code",
   "execution_count": 21,
   "metadata": {},
   "outputs": [
    {
     "name": "stdout",
     "output_type": "stream",
     "text": [
      "Best R2 value: 0.7187574079451111\n",
      "Training R2 value: 0.7439661676293376\n",
      "Mean Squared Error (MSE): 8.792066629250447\n",
      "Mean Absolute Error (MAE): 2.0022890137324936\n",
      "Best features: ('BSI_mean', 'NDVI_mean', 'SAVI_mean', 'NDWI_mean')\n"
     ]
    }
   ],
   "source": [
    "scaler = StandardScaler()\n",
    "X_train_scaled = scaler.fit_transform(X_train)\n",
    "X_val_scaled = scaler.transform(X_val)\n",
    "\n",
    "best_r2 = 0.0\n",
    "best_features = None\n",
    "\n",
    "# Try different combinations of columns\n",
    "for num_features in range(1, len(X.columns) + 1):\n",
    "    for features in combinations(X.columns, num_features):\n",
    "        # Get the indices of the selected features\n",
    "        feature_indices = [X.columns.get_loc(feature) for feature in features]\n",
    "        \n",
    "        # Select the corresponding subset of scaled features\n",
    "        X_train_subset = X_train_scaled[:, feature_indices]\n",
    "        X_val_subset = X_val_scaled[:, feature_indices]\n",
    "\n",
    "        # Create and train the support vector regressor model\n",
    "        model = SVR()\n",
    "        model.fit(X_train_subset, y_train)\n",
    "\n",
    "        # Make predictions on the validation set\n",
    "        y_pred = model.predict(X_val_subset)\n",
    "\n",
    "        # Calculate evaluation metrics\n",
    "        r2 = r2_score(y_val, y_pred)\n",
    "        train_r2 = r2_score(y_train, model.predict(X_train_subset))\n",
    "        mse = mean_squared_error(y_val, y_pred)\n",
    "        mae = mean_absolute_error(y_val, y_pred)\n",
    "\n",
    "        # Check if current combination of features gives better R2 score\n",
    "        if r2 > best_r2:\n",
    "            best_r2 = r2\n",
    "            best_features = features\n",
    "\n",
    "# Print the results\n",
    "print(\"Best R2 value:\", best_r2)\n",
    "print(\"Training R2 value:\", train_r2)\n",
    "print(\"Mean Squared Error (MSE):\", mse)\n",
    "print(\"Mean Absolute Error (MAE):\", mae)\n",
    "print(\"Best features:\", best_features)\n"
   ]
  },
  {
   "attachments": {},
   "cell_type": "markdown",
   "metadata": {},
   "source": [
    "### 5. Ridge Regression"
   ]
  },
  {
   "cell_type": "code",
   "execution_count": 26,
   "metadata": {},
   "outputs": [
    {
     "name": "stdout",
     "output_type": "stream",
     "text": [
      "Best R2 value: 0.7704733248895206\n",
      "Training R2 value: 0.7980626314774321\n",
      "Mean Squared Error (MSE): 6.459242117571475\n",
      "Mean Absolute Error (MAE): 1.7341918862092043\n",
      "Best features: ('BSI_mean', 'MNDWI_mean', 'NDVI_mean', 'SAVI_mean', 'NDBAI_mean')\n"
     ]
    }
   ],
   "source": [
    "scaler = StandardScaler()\n",
    "X_train_scaled = scaler.fit_transform(X_train)\n",
    "X_val_scaled = scaler.transform(X_val)\n",
    "\n",
    "best_r2 = 0.0\n",
    "best_features = None\n",
    "\n",
    "# Try different combinations of columns\n",
    "for num_features in range(1, len(X.columns) + 1):\n",
    "    for features in combinations(X.columns, num_features):\n",
    "        # Get the indices of the selected features\n",
    "        feature_indices = [X.columns.get_loc(feature) for feature in features]\n",
    "        \n",
    "        # Select the corresponding subset of scaled features\n",
    "        X_train_subset = X_train_scaled[:, feature_indices]\n",
    "        X_val_subset = X_val_scaled[:, feature_indices]\n",
    "\n",
    "        # Create and train the Ridge regression model\n",
    "        model = Ridge(alpha=0.1, random_state=42)\n",
    "        model.fit(X_train_subset, y_train)\n",
    "\n",
    "        # Make predictions on the validation set\n",
    "        y_pred = model.predict(X_val_subset)\n",
    "\n",
    "        # Calculate evaluation metrics\n",
    "        r2 = r2_score(y_val, y_pred)\n",
    "        train_r2 = r2_score(y_train, model.predict(X_train_subset))\n",
    "        mse = mean_squared_error(y_val, y_pred)\n",
    "        mae = mean_absolute_error(y_val, y_pred)\n",
    "\n",
    "        # Check if current combination of features gives better R2 score\n",
    "        if r2 > best_r2:\n",
    "            best_r2 = r2\n",
    "            best_features = features\n",
    "\n",
    "# Print the results\n",
    "print(\"Best R2 value:\", best_r2)\n",
    "print(\"Training R2 value:\", train_r2)\n",
    "print(\"Mean Squared Error (MSE):\", mse)\n",
    "print(\"Mean Absolute Error (MAE):\", mae)\n",
    "print(\"Best features:\", best_features)\n"
   ]
  },
  {
   "attachments": {},
   "cell_type": "markdown",
   "metadata": {},
   "source": [
    "### 6. Lasso Regression"
   ]
  },
  {
   "cell_type": "code",
   "execution_count": 30,
   "metadata": {},
   "outputs": [
    {
     "name": "stdout",
     "output_type": "stream",
     "text": [
      "Best R2 value: 0.6368234559007442\n",
      "Training R2 value: 0.7258865650066841\n",
      "Mean Squared Error (MSE): 10.250762771609994\n",
      "Mean Absolute Error (MAE): 2.012480088740237\n",
      "Best features: ('MNDWI_mean', 'NDBI_mean', 'NDVI_mean', 'NDWI_mean', 'NDBAI_mean')\n"
     ]
    }
   ],
   "source": [
    "scaler = StandardScaler()\n",
    "X_train_scaled = scaler.fit_transform(X_train)\n",
    "X_val_scaled = scaler.transform(X_val)\n",
    "\n",
    "best_r2 = 0.0\n",
    "best_features = None\n",
    "\n",
    "# Try different combinations of columns\n",
    "for num_features in range(1, len(X.columns) + 1):\n",
    "    for features in combinations(X.columns, num_features):\n",
    "        # Get the indices of the selected features\n",
    "        feature_indices = [X.columns.get_loc(feature) for feature in features]\n",
    "        \n",
    "        # Select the corresponding subset of scaled features\n",
    "        X_train_subset = X_train_scaled[:, feature_indices]\n",
    "        X_val_subset = X_val_scaled[:, feature_indices]\n",
    "\n",
    "        # Create and train the Ridge regression model\n",
    "        model = Lasso(alpha=0.1, random_state=42)\n",
    "        model.fit(X_train_subset, y_train)\n",
    "\n",
    "        # Make predictions on the validation set\n",
    "        y_pred = model.predict(X_val_subset)\n",
    "\n",
    "        # Calculate evaluation metrics\n",
    "        r2 = r2_score(y_val, y_pred)\n",
    "        train_r2 = r2_score(y_train, model.predict(X_train_subset))\n",
    "        mse = mean_squared_error(y_val, y_pred)\n",
    "        mae = mean_absolute_error(y_val, y_pred)\n",
    "\n",
    "        # Check if current combination of features gives better R2 score\n",
    "        if r2 > best_r2:\n",
    "            best_r2 = r2\n",
    "            best_features = features\n",
    "\n",
    "# Print the results\n",
    "print(\"Best R2 value:\", best_r2)\n",
    "print(\"Training R2 value:\", train_r2)\n",
    "print(\"Mean Squared Error (MSE):\", mse)\n",
    "print(\"Mean Absolute Error (MAE):\", mae)\n",
    "print(\"Best features:\", best_features)\n"
   ]
  },
  {
   "attachments": {},
   "cell_type": "markdown",
   "metadata": {},
   "source": [
    "### 7. Kernel Ridge"
   ]
  },
  {
   "cell_type": "code",
   "execution_count": 32,
   "metadata": {},
   "outputs": [
    {
     "name": "stdout",
     "output_type": "stream",
     "text": [
      "Best R2 value: 0.7909054744528813\n",
      "Training R2 value: 0.6885771691795833\n",
      "Mean Squared Error (MSE): 7.749060745836938\n",
      "Mean Absolute Error (MAE): 2.145950234438521\n",
      "Best features: ('MNDWI_mean', 'NDBI_mean', 'NDMI_mean', 'NDVI_mean', 'SAVI_mean')\n"
     ]
    }
   ],
   "source": [
    "scaler = StandardScaler()\n",
    "X_train_scaled = scaler.fit_transform(X_train)\n",
    "X_val_scaled = scaler.transform(X_val)\n",
    "\n",
    "best_r2 = 0.0\n",
    "best_features = None\n",
    "\n",
    "# Try different combinations of columns\n",
    "for num_features in range(1, len(X.columns) + 1):\n",
    "    for features in combinations(X.columns, num_features):\n",
    "        # Get the indices of the selected features\n",
    "        feature_indices = [X.columns.get_loc(feature) for feature in features]\n",
    "        \n",
    "        # Select the corresponding subset of scaled features\n",
    "        X_train_subset = X_train_scaled[:, feature_indices]\n",
    "        X_val_subset = X_val_scaled[:, feature_indices]\n",
    "\n",
    "        # Create and train the Ridge regression model\n",
    "        model = KernelRidge(alpha=1.0, kernel='rbf')\n",
    "        model.fit(X_train_subset, y_train)\n",
    "\n",
    "        # Make predictions on the validation set\n",
    "        y_pred = model.predict(X_val_subset)\n",
    "\n",
    "        # Calculate evaluation metrics\n",
    "        r2 = r2_score(y_val, y_pred)\n",
    "        train_r2 = r2_score(y_train, model.predict(X_train_subset))\n",
    "        mse = mean_squared_error(y_val, y_pred)\n",
    "        mae = mean_absolute_error(y_val, y_pred)\n",
    "\n",
    "        # Check if current combination of features gives better R2 score\n",
    "        if r2 > best_r2:\n",
    "            best_r2 = r2\n",
    "            best_features = features\n",
    "\n",
    "# Print the results\n",
    "print(\"Best R2 value:\", best_r2)\n",
    "print(\"Training R2 value:\", train_r2)\n",
    "print(\"Mean Squared Error (MSE):\", mse)\n",
    "print(\"Mean Absolute Error (MAE):\", mae)\n",
    "print(\"Best features:\", best_features)\n"
   ]
  },
  {
   "attachments": {},
   "cell_type": "markdown",
   "metadata": {},
   "source": [
    "### 8. Gradient Boost"
   ]
  },
  {
   "cell_type": "code",
   "execution_count": 35,
   "metadata": {},
   "outputs": [
    {
     "name": "stdout",
     "output_type": "stream",
     "text": [
      "Best R2 value: 0.7223135311626754\n",
      "Training R2 value: 0.9412423497699499\n",
      "Mean Squared Error (MSE): 8.298562003295796\n",
      "Mean Absolute Error (MAE): 1.9954853149277236\n",
      "Best features: ('BSI_mean', 'EVI_mean', 'MNDWI_mean', 'NDMI_mean', 'NDVI_mean')\n"
     ]
    }
   ],
   "source": [
    "scaler = StandardScaler()\n",
    "X_train_scaled = scaler.fit_transform(X_train)\n",
    "X_val_scaled = scaler.transform(X_val)\n",
    "\n",
    "best_r2 = 0.0\n",
    "best_features = None\n",
    "\n",
    "# Try different combinations of columns\n",
    "for num_features in range(1, len(X.columns) + 1):\n",
    "    for features in combinations(X.columns, num_features):\n",
    "        # Get the indices of the selected features\n",
    "        feature_indices = [X.columns.get_loc(feature) for feature in features]\n",
    "        \n",
    "        # Select the corresponding subset of scaled features\n",
    "        X_train_subset = X_train_scaled[:, feature_indices]\n",
    "        X_val_subset = X_val_scaled[:, feature_indices]\n",
    "\n",
    "        # Create and train the Ridge regression model\n",
    "        model = GradientBoostingRegressor(random_state=42)\n",
    "        model.fit(X_train_subset, y_train)\n",
    "\n",
    "        # Make predictions on the validation set\n",
    "        y_pred = model.predict(X_val_subset)\n",
    "\n",
    "        # Calculate evaluation metrics\n",
    "        r2 = r2_score(y_val, y_pred)\n",
    "        train_r2 = r2_score(y_train, model.predict(X_train_subset))\n",
    "        mse = mean_squared_error(y_val, y_pred)\n",
    "        mae = mean_absolute_error(y_val, y_pred)\n",
    "\n",
    "        # Check if current combination of features gives better R2 score\n",
    "        if r2 > best_r2:\n",
    "            best_r2 = r2\n",
    "            best_features = features\n",
    "\n",
    "# Print the results\n",
    "print(\"Best R2 value:\", best_r2)\n",
    "print(\"Training R2 value:\", train_r2)\n",
    "print(\"Mean Squared Error (MSE):\", mse)\n",
    "print(\"Mean Absolute Error (MAE):\", mae)\n",
    "print(\"Best features:\", best_features)\n"
   ]
  },
  {
   "attachments": {},
   "cell_type": "markdown",
   "metadata": {},
   "source": [
    "### 9. XG Boost"
   ]
  },
  {
   "cell_type": "code",
   "execution_count": 48,
   "metadata": {},
   "outputs": [
    {
     "name": "stdout",
     "output_type": "stream",
     "text": [
      "Best R2 value: 0.7281324795044264\n",
      "Training R2 value: 0.886475456715604\n",
      "Mean Squared Error (MSE): 10.159158871125802\n",
      "Mean Absolute Error (MAE): 2.229420693182632\n",
      "Best features: ('MNDWI_mean', 'NDBI_mean', 'SAVI_mean')\n"
     ]
    }
   ],
   "source": [
    "best_r2 = 0.0\n",
    "best_features = None\n",
    "\n",
    "# Try different combinations of columns\n",
    "for num_features in range(1, len(X.columns) + 1):\n",
    "    for features in combinations(X.columns, num_features):\n",
    "        feature_indices = [X.columns.get_loc(feature) for feature in features]\n",
    "        X_train_subset = X_train[:, feature_indices]\n",
    "        X_val_subset = X_val[:, feature_indices]\n",
    "\n",
    "        # Prepare the data in the required format for XGBoost\n",
    "        dtrain = xgb.DMatrix(X_train_subset, label=y_train)\n",
    "        dval = xgb.DMatrix(X_val_subset, label=y_val)\n",
    "\n",
    "        # Define the parameters for the XGBoost model\n",
    "        params = {\n",
    "            'objective': 'reg:squarederror',\n",
    "            'eval_metric': 'rmse',\n",
    "            'seed': 42\n",
    "        }\n",
    "\n",
    "        # Train the XGBoost model\n",
    "        model = xgb.train(params, dtrain)\n",
    "        y_pred = model.predict(dval)\n",
    "\n",
    "        # Compute evaluation metrics\n",
    "        r2 = r2_score(y_val, y_pred)\n",
    "        train_r2 = r2_score(y_train, model.predict(dtrain))\n",
    "        mse = mean_squared_error(y_val, y_pred)\n",
    "        mae = mean_absolute_error(y_val, y_pred)\n",
    "\n",
    "        # Update the best R2 score and selected features if a better result is found\n",
    "        if r2 > best_r2:\n",
    "            best_r2 = r2\n",
    "            best_features = features\n",
    "\n",
    "# Print the results\n",
    "print(\"Best R2 value:\", best_r2)\n",
    "print(\"Training R2 value:\", train_r2)\n",
    "print(\"Mean Squared Error (MSE):\", mse)\n",
    "print(\"Mean Absolute Error (MAE):\", mae)\n",
    "print(\"Best features:\", best_features)\n"
   ]
  },
  {
   "attachments": {},
   "cell_type": "markdown",
   "metadata": {},
   "source": [
    "### 10. Decison Tree Regressor"
   ]
  },
  {
   "cell_type": "code",
   "execution_count": 45,
   "metadata": {},
   "outputs": [
    {
     "name": "stdout",
     "output_type": "stream",
     "text": [
      "Best R2 value: 0.6198740508036413\n",
      "Training R2 value: 1.0\n",
      "Mean Squared Error (MSE): 15.65144895540603\n",
      "Mean Absolute Error (MAE): 2.5673934658946633\n",
      "Best features: ('NDVI_mean', 'NDWI_mean')\n"
     ]
    }
   ],
   "source": [
    "scaler = StandardScaler()\n",
    "X_train_scaled = scaler.fit_transform(X_train)\n",
    "X_val_scaled = scaler.transform(X_val)\n",
    "\n",
    "best_r2 = 0.0\n",
    "best_features = None\n",
    "\n",
    "# Try different combinations of columns\n",
    "for num_features in range(1, len(X.columns) + 1):\n",
    "    for features in combinations(X.columns, num_features):\n",
    "        # Get the indices of the selected features\n",
    "        feature_indices = [X.columns.get_loc(feature) for feature in features]\n",
    "        \n",
    "        # Select the corresponding subset of scaled features\n",
    "        X_train_subset = X_train_scaled[:, feature_indices]\n",
    "        X_val_subset = X_val_scaled[:, feature_indices]\n",
    "\n",
    "        # Create and train the Ridge regression model\n",
    "        model = DecisionTreeRegressor(random_state=42)\n",
    "        model.fit(X_train_subset, y_train)\n",
    "\n",
    "        # Make predictions on the validation set\n",
    "        y_pred = model.predict(X_val_subset)\n",
    "\n",
    "        # Calculate evaluation metrics\n",
    "        r2 = r2_score(y_val, y_pred)\n",
    "        train_r2 = r2_score(y_train, model.predict(X_train_subset))\n",
    "        mse = mean_squared_error(y_val, y_pred)\n",
    "        mae = mean_absolute_error(y_val, y_pred)\n",
    "\n",
    "        # Check if current combination of features gives better R2 score\n",
    "        if r2 > best_r2:\n",
    "            best_r2 = r2\n",
    "            best_features = features\n",
    "\n",
    "# Print the results\n",
    "print(\"Best R2 value:\", best_r2)\n",
    "print(\"Training R2 value:\", train_r2)\n",
    "print(\"Mean Squared Error (MSE):\", mse)\n",
    "print(\"Mean Absolute Error (MAE):\", mae)\n",
    "print(\"Best features:\", best_features)\n"
   ]
  },
  {
   "cell_type": "markdown",
   "metadata": {},
   "source": [
    "### 11. MLP Regressor"
   ]
  },
  {
   "cell_type": "code",
   "execution_count": 42,
   "metadata": {},
   "outputs": [
    {
     "name": "stdout",
     "output_type": "stream",
     "text": [
      "Best R2 value: 0.8525260247677593\n",
      "Training R2 value: 0.9291038355597872\n",
      "Mean Squared Error (MSE): 5.977707022128167\n",
      "Mean Absolute Error (MAE): 1.662999020900779\n",
      "Best features: ('BSI_mean', 'EVI_mean', 'MNDWI_mean', 'NDMI_mean', 'NDVI_mean', 'SAVI_mean', 'NDBAI_mean')\n"
     ]
    }
   ],
   "source": [
    "import warnings\n",
    "warnings.filterwarnings(\"ignore\")\n",
    "\n",
    "scaler = StandardScaler()\n",
    "X_train_scaled = scaler.fit_transform(X_train)\n",
    "X_val_scaled = scaler.transform(X_val)\n",
    "\n",
    "best_r2 = 0.0\n",
    "best_features = None\n",
    "\n",
    "# Try different combinations of columns\n",
    "for num_features in range(1, len(X.columns) + 1):\n",
    "    for features in combinations(X.columns, num_features):\n",
    "        # Get the indices of the selected features\n",
    "        feature_indices = [X.columns.get_loc(feature) for feature in features]\n",
    "        \n",
    "        # Select the corresponding subset of scaled features\n",
    "        X_train_subset = X_train_scaled[:, feature_indices]\n",
    "        X_val_subset = X_val_scaled[:, feature_indices]\n",
    "\n",
    "        # Create and train the Ridge regression model\n",
    "        model = MLPRegressor(random_state=42, solver='lbfgs')\n",
    "        model.fit(X_train_subset, y_train)\n",
    "\n",
    "        # Make predictions on the validation set\n",
    "        y_pred = model.predict(X_val_subset)\n",
    "\n",
    "        # Calculate evaluation metrics\n",
    "        r2 = r2_score(y_val, y_pred)\n",
    "        train_r2 = r2_score(y_train, model.predict(X_train_subset))\n",
    "        mse = mean_squared_error(y_val, y_pred)\n",
    "        mae = mean_absolute_error(y_val, y_pred)\n",
    "\n",
    "        # Check if current combination of features gives better R2 score\n",
    "        if r2 > best_r2:\n",
    "            best_r2 = r2\n",
    "            best_features = features\n",
    "\n",
    "# Print the results\n",
    "print(\"Best R2 value:\", best_r2)\n",
    "print(\"Training R2 value:\", train_r2)\n",
    "print(\"Mean Squared Error (MSE):\", mse)\n",
    "print(\"Mean Absolute Error (MAE):\", mae)\n",
    "print(\"Best features:\", best_features)\n"
   ]
  },
  {
   "attachments": {},
   "cell_type": "markdown",
   "metadata": {},
   "source": [
    "## Final Results"
   ]
  },
  {
   "attachments": {},
   "cell_type": "markdown",
   "metadata": {},
   "source": [
    "|Model| MAE | MSE | R^2 score | Training R^2 Score| Best Features |\n",
    "|-----|----|----|----|----|----|\n",
    "|Linear Regression|1.731819697942487|6.420445821520478|0.7720133710591022|0.798133218858156|'BSI_mean', 'MNDWI_mean', 'NDVI_mean', 'SAVI_mean', 'NDBAI_mean'|\n",
    "|Polynomial Regression|144.92649694963998|1103183.6890271576|0.8586027966802722|1.0|'MNDWI_mean', 'NDBI_mean', 'NDMI_mean', 'NDVI_mean', 'SAVI_mean', 'NDWI_mean', 'NDBAI_mean'|\n",
    "|Random Forest Regressor|1.9152262749551359|9.027306164048472|0.7188322358716752|0.9667470908916171|'EVI_mean', 'MNDWI_mean', 'NDVI_mean', 'SAVI_mean', 'NDWI_mean'|\n",
    "|Support Vector Regressor|2.0022890137324936|8.792066629250447|0.7187574079451111|0.7439661676293376|'BSI_mean', 'NDVI_mean', 'SAVI_mean', 'NDWI_mean'|\n",
    "|Ridge Regression|1.7341918862092043|6.459242117571475|0.7704733248895206|0.7980626314774321|'BSI_mean', 'MNDWI_mean', 'NDVI_mean', 'SAVI_mean', 'NDBAI_mean'|\n",
    "|Lasso Regression|2.012480088740237|10.250762771609994|0.6368234559007442|0.7258865650066841|'MNDWI_mean', 'NDBI_mean', 'NDVI_mean', 'NDWI_mean', 'NDBAI_mean'|\n",
    "|Kernel Ridge|2.145950234438521|7.749060745836938|0.7909054744528813|0.6885771691795833|'MNDWI_mean', 'NDBI_mean', 'NDMI_mean', 'NDVI_mean', 'SAVI_mean'|\n",
    "|Gradient Boost|1.9954853149277236|8.298562003295796|0.7223135311626754|0.9412423497699499|'BSI_mean', 'EVI_mean', 'MNDWI_mean', 'NDMI_mean', 'NDVI_mean'|\n",
    "|XG Boost|2.229420693182632|10.159158871125802|0.7281324795044264|0.886475456715604|'MNDWI_mean', 'NDBI_mean', 'SAVI_mean'|\n",
    "|Decision Tree Regressor|2.5673934658946633|15.65144895540603|0.6198740508036413|1.0|'NDVI_mean', 'NDWI_mean'|\n",
    "|MLP Regressor|1.662999020900779|5.977707022128167|0.8525260247677593|0.9291038355597872|'BSI_mean', 'EVI_mean', 'MNDWI_mean', 'NDMI_mean', 'NDVI_mean', 'SAVI_mean', 'NDBAI_mean'|"
   ]
  }
 ],
 "metadata": {
  "kernelspec": {
   "display_name": "Python 3",
   "language": "python",
   "name": "python3"
  },
  "language_info": {
   "codemirror_mode": {
    "name": "ipython",
    "version": 3
   },
   "file_extension": ".py",
   "mimetype": "text/x-python",
   "name": "python",
   "nbconvert_exporter": "python",
   "pygments_lexer": "ipython3",
   "version": "3.8.10"
  },
  "orig_nbformat": 4
 },
 "nbformat": 4,
 "nbformat_minor": 2
}
